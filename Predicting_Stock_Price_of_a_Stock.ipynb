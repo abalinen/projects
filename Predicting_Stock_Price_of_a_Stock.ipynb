{
  "nbformat": 4,
  "nbformat_minor": 0,
  "metadata": {
    "colab": {
      "name": "Predicting Stock Price of a Stock",
      "provenance": [],
      "collapsed_sections": []
    },
    "kernelspec": {
      "name": "python3",
      "display_name": "Python 3"
    },
    "language_info": {
      "name": "python"
    }
  },
  "cells": [
    {
      "cell_type": "code",
      "execution_count": null,
      "metadata": {
        "id": "rhl6XhcsDhWZ"
      },
      "outputs": [],
      "source": [
        "import math\n",
        "import numpy as np\n",
        "import pandas as pd\n",
        "\n",
        "from sklearn.preprocessing import MinMaxScaler\n",
        "from keras.models import Sequential\n",
        "from keras.layers import Dense,LSTM\n",
        "import matplotlib.pyplot as plt\n",
        "plt.style.use('fivethirtyeight')\n"
      ]
    },
    {
      "cell_type": "code",
      "source": [
        "!pip install --upgrade pandas-datareader\n",
        "\n",
        "!pip install --upgrade pandas\n",
        "\n",
        "!pip install yfinance\n",
        "\n",
        "import pandas_datareader as pdr"
      ],
      "metadata": {
        "colab": {
          "base_uri": "https://localhost:8080/"
        },
        "id": "CdA36T-nHBhL",
        "outputId": "f5238208-7a09-420e-891f-1a57fcea7d9e"
      },
      "execution_count": null,
      "outputs": [
        {
          "output_type": "stream",
          "name": "stdout",
          "text": [
            "Looking in indexes: https://pypi.org/simple, https://us-python.pkg.dev/colab-wheels/public/simple/\n",
            "Requirement already satisfied: pandas-datareader in /usr/local/lib/python3.7/dist-packages (0.10.0)\n",
            "Requirement already satisfied: pandas>=0.23 in /usr/local/lib/python3.7/dist-packages (from pandas-datareader) (1.3.5)\n",
            "Requirement already satisfied: lxml in /usr/local/lib/python3.7/dist-packages (from pandas-datareader) (4.9.0)\n",
            "Requirement already satisfied: requests>=2.19.0 in /usr/local/lib/python3.7/dist-packages (from pandas-datareader) (2.28.0)\n",
            "Requirement already satisfied: python-dateutil>=2.7.3 in /usr/local/lib/python3.7/dist-packages (from pandas>=0.23->pandas-datareader) (2.8.2)\n",
            "Requirement already satisfied: pytz>=2017.3 in /usr/local/lib/python3.7/dist-packages (from pandas>=0.23->pandas-datareader) (2022.1)\n",
            "Requirement already satisfied: numpy>=1.17.3 in /usr/local/lib/python3.7/dist-packages (from pandas>=0.23->pandas-datareader) (1.21.6)\n",
            "Requirement already satisfied: six>=1.5 in /usr/local/lib/python3.7/dist-packages (from python-dateutil>=2.7.3->pandas>=0.23->pandas-datareader) (1.15.0)\n",
            "Requirement already satisfied: idna<4,>=2.5 in /usr/local/lib/python3.7/dist-packages (from requests>=2.19.0->pandas-datareader) (2.10)\n",
            "Requirement already satisfied: urllib3<1.27,>=1.21.1 in /usr/local/lib/python3.7/dist-packages (from requests>=2.19.0->pandas-datareader) (1.24.3)\n",
            "Requirement already satisfied: certifi>=2017.4.17 in /usr/local/lib/python3.7/dist-packages (from requests>=2.19.0->pandas-datareader) (2022.6.15)\n",
            "Requirement already satisfied: charset-normalizer~=2.0.0 in /usr/local/lib/python3.7/dist-packages (from requests>=2.19.0->pandas-datareader) (2.0.12)\n",
            "Looking in indexes: https://pypi.org/simple, https://us-python.pkg.dev/colab-wheels/public/simple/\n",
            "Requirement already satisfied: pandas in /usr/local/lib/python3.7/dist-packages (1.3.5)\n",
            "Requirement already satisfied: python-dateutil>=2.7.3 in /usr/local/lib/python3.7/dist-packages (from pandas) (2.8.2)\n",
            "Requirement already satisfied: numpy>=1.17.3 in /usr/local/lib/python3.7/dist-packages (from pandas) (1.21.6)\n",
            "Requirement already satisfied: pytz>=2017.3 in /usr/local/lib/python3.7/dist-packages (from pandas) (2022.1)\n",
            "Requirement already satisfied: six>=1.5 in /usr/local/lib/python3.7/dist-packages (from python-dateutil>=2.7.3->pandas) (1.15.0)\n",
            "Looking in indexes: https://pypi.org/simple, https://us-python.pkg.dev/colab-wheels/public/simple/\n",
            "Requirement already satisfied: yfinance in /usr/local/lib/python3.7/dist-packages (0.1.72)\n",
            "Requirement already satisfied: lxml>=4.5.1 in /usr/local/lib/python3.7/dist-packages (from yfinance) (4.9.0)\n",
            "Requirement already satisfied: requests>=2.26 in /usr/local/lib/python3.7/dist-packages (from yfinance) (2.28.0)\n",
            "Requirement already satisfied: multitasking>=0.0.7 in /usr/local/lib/python3.7/dist-packages (from yfinance) (0.0.10)\n",
            "Requirement already satisfied: numpy>=1.15 in /usr/local/lib/python3.7/dist-packages (from yfinance) (1.21.6)\n",
            "Requirement already satisfied: pandas>=0.24.0 in /usr/local/lib/python3.7/dist-packages (from yfinance) (1.3.5)\n",
            "Requirement already satisfied: python-dateutil>=2.7.3 in /usr/local/lib/python3.7/dist-packages (from pandas>=0.24.0->yfinance) (2.8.2)\n",
            "Requirement already satisfied: pytz>=2017.3 in /usr/local/lib/python3.7/dist-packages (from pandas>=0.24.0->yfinance) (2022.1)\n",
            "Requirement already satisfied: six>=1.5 in /usr/local/lib/python3.7/dist-packages (from python-dateutil>=2.7.3->pandas>=0.24.0->yfinance) (1.15.0)\n",
            "Requirement already satisfied: urllib3<1.27,>=1.21.1 in /usr/local/lib/python3.7/dist-packages (from requests>=2.26->yfinance) (1.24.3)\n",
            "Requirement already satisfied: idna<4,>=2.5 in /usr/local/lib/python3.7/dist-packages (from requests>=2.26->yfinance) (2.10)\n",
            "Requirement already satisfied: charset-normalizer~=2.0.0 in /usr/local/lib/python3.7/dist-packages (from requests>=2.26->yfinance) (2.0.12)\n",
            "Requirement already satisfied: certifi>=2017.4.17 in /usr/local/lib/python3.7/dist-packages (from requests>=2.26->yfinance) (2022.6.15)\n"
          ]
        }
      ]
    },
    {
      "cell_type": "code",
      "source": [
        "import yfinance as yf\n",
        "\n",
        "from datetime import date\n",
        "\n",
        "today = date.today()\n",
        "\n",
        "data = yf.download('GOOGL',start = '2010-01-01', end=today)\n",
        "\n",
        "data\n",
        "\n",
        "\n"
      ],
      "metadata": {
        "colab": {
          "base_uri": "https://localhost:8080/",
          "height": 467
        },
        "id": "EygzBRIkFh_e",
        "outputId": "9572f46a-2df5-49bf-b506-2395957af99b"
      },
      "execution_count": null,
      "outputs": [
        {
          "output_type": "stream",
          "name": "stdout",
          "text": [
            "\r[*********************100%***********************]  1 of 1 completed\n"
          ]
        },
        {
          "output_type": "execute_result",
          "data": {
            "text/plain": [
              "                   Open         High          Low        Close    Adj Close  \\\n",
              "Date                                                                          \n",
              "2010-01-04   313.788788   315.070068   312.432434   313.688690   313.688690   \n",
              "2010-01-05   313.903900   314.234222   311.081085   312.307312   312.307312   \n",
              "2010-01-06   313.243256   313.243256   303.483490   304.434448   304.434448   \n",
              "2010-01-07   305.005005   305.305298   296.621613   297.347351   297.347351   \n",
              "2010-01-08   296.296295   301.926941   294.849854   301.311310   301.311310   \n",
              "...                 ...          ...          ...          ...          ...   \n",
              "2022-06-17  2120.669922  2173.989990  2100.919922  2142.870117  2142.870117   \n",
              "2022-06-21  2178.590088  2249.790039  2172.000000  2230.879883  2230.879883   \n",
              "2022-06-22  2211.129883  2266.929932  2207.649902  2229.750000  2229.750000   \n",
              "2022-06-23  2244.629883  2254.850098  2210.010010  2244.840088  2244.840088   \n",
              "2022-06-24  2259.899902  2361.580078  2259.050049  2359.500000  2359.500000   \n",
              "\n",
              "              Volume  \n",
              "Date                  \n",
              "2010-01-04   3908488  \n",
              "2010-01-05   6003391  \n",
              "2010-01-06   7949443  \n",
              "2010-01-07  12815771  \n",
              "2010-01-08   9439151  \n",
              "...              ...  \n",
              "2022-06-17   2555300  \n",
              "2022-06-21   2370800  \n",
              "2022-06-22   1538700  \n",
              "2022-06-23   1418100  \n",
              "2022-06-24   2054600  \n",
              "\n",
              "[3141 rows x 6 columns]"
            ],
            "text/html": [
              "\n",
              "  <div id=\"df-0f4d220c-dbb0-4794-8f53-4091e833b149\">\n",
              "    <div class=\"colab-df-container\">\n",
              "      <div>\n",
              "<style scoped>\n",
              "    .dataframe tbody tr th:only-of-type {\n",
              "        vertical-align: middle;\n",
              "    }\n",
              "\n",
              "    .dataframe tbody tr th {\n",
              "        vertical-align: top;\n",
              "    }\n",
              "\n",
              "    .dataframe thead th {\n",
              "        text-align: right;\n",
              "    }\n",
              "</style>\n",
              "<table border=\"1\" class=\"dataframe\">\n",
              "  <thead>\n",
              "    <tr style=\"text-align: right;\">\n",
              "      <th></th>\n",
              "      <th>Open</th>\n",
              "      <th>High</th>\n",
              "      <th>Low</th>\n",
              "      <th>Close</th>\n",
              "      <th>Adj Close</th>\n",
              "      <th>Volume</th>\n",
              "    </tr>\n",
              "    <tr>\n",
              "      <th>Date</th>\n",
              "      <th></th>\n",
              "      <th></th>\n",
              "      <th></th>\n",
              "      <th></th>\n",
              "      <th></th>\n",
              "      <th></th>\n",
              "    </tr>\n",
              "  </thead>\n",
              "  <tbody>\n",
              "    <tr>\n",
              "      <th>2010-01-04</th>\n",
              "      <td>313.788788</td>\n",
              "      <td>315.070068</td>\n",
              "      <td>312.432434</td>\n",
              "      <td>313.688690</td>\n",
              "      <td>313.688690</td>\n",
              "      <td>3908488</td>\n",
              "    </tr>\n",
              "    <tr>\n",
              "      <th>2010-01-05</th>\n",
              "      <td>313.903900</td>\n",
              "      <td>314.234222</td>\n",
              "      <td>311.081085</td>\n",
              "      <td>312.307312</td>\n",
              "      <td>312.307312</td>\n",
              "      <td>6003391</td>\n",
              "    </tr>\n",
              "    <tr>\n",
              "      <th>2010-01-06</th>\n",
              "      <td>313.243256</td>\n",
              "      <td>313.243256</td>\n",
              "      <td>303.483490</td>\n",
              "      <td>304.434448</td>\n",
              "      <td>304.434448</td>\n",
              "      <td>7949443</td>\n",
              "    </tr>\n",
              "    <tr>\n",
              "      <th>2010-01-07</th>\n",
              "      <td>305.005005</td>\n",
              "      <td>305.305298</td>\n",
              "      <td>296.621613</td>\n",
              "      <td>297.347351</td>\n",
              "      <td>297.347351</td>\n",
              "      <td>12815771</td>\n",
              "    </tr>\n",
              "    <tr>\n",
              "      <th>2010-01-08</th>\n",
              "      <td>296.296295</td>\n",
              "      <td>301.926941</td>\n",
              "      <td>294.849854</td>\n",
              "      <td>301.311310</td>\n",
              "      <td>301.311310</td>\n",
              "      <td>9439151</td>\n",
              "    </tr>\n",
              "    <tr>\n",
              "      <th>...</th>\n",
              "      <td>...</td>\n",
              "      <td>...</td>\n",
              "      <td>...</td>\n",
              "      <td>...</td>\n",
              "      <td>...</td>\n",
              "      <td>...</td>\n",
              "    </tr>\n",
              "    <tr>\n",
              "      <th>2022-06-17</th>\n",
              "      <td>2120.669922</td>\n",
              "      <td>2173.989990</td>\n",
              "      <td>2100.919922</td>\n",
              "      <td>2142.870117</td>\n",
              "      <td>2142.870117</td>\n",
              "      <td>2555300</td>\n",
              "    </tr>\n",
              "    <tr>\n",
              "      <th>2022-06-21</th>\n",
              "      <td>2178.590088</td>\n",
              "      <td>2249.790039</td>\n",
              "      <td>2172.000000</td>\n",
              "      <td>2230.879883</td>\n",
              "      <td>2230.879883</td>\n",
              "      <td>2370800</td>\n",
              "    </tr>\n",
              "    <tr>\n",
              "      <th>2022-06-22</th>\n",
              "      <td>2211.129883</td>\n",
              "      <td>2266.929932</td>\n",
              "      <td>2207.649902</td>\n",
              "      <td>2229.750000</td>\n",
              "      <td>2229.750000</td>\n",
              "      <td>1538700</td>\n",
              "    </tr>\n",
              "    <tr>\n",
              "      <th>2022-06-23</th>\n",
              "      <td>2244.629883</td>\n",
              "      <td>2254.850098</td>\n",
              "      <td>2210.010010</td>\n",
              "      <td>2244.840088</td>\n",
              "      <td>2244.840088</td>\n",
              "      <td>1418100</td>\n",
              "    </tr>\n",
              "    <tr>\n",
              "      <th>2022-06-24</th>\n",
              "      <td>2259.899902</td>\n",
              "      <td>2361.580078</td>\n",
              "      <td>2259.050049</td>\n",
              "      <td>2359.500000</td>\n",
              "      <td>2359.500000</td>\n",
              "      <td>2054600</td>\n",
              "    </tr>\n",
              "  </tbody>\n",
              "</table>\n",
              "<p>3141 rows × 6 columns</p>\n",
              "</div>\n",
              "      <button class=\"colab-df-convert\" onclick=\"convertToInteractive('df-0f4d220c-dbb0-4794-8f53-4091e833b149')\"\n",
              "              title=\"Convert this dataframe to an interactive table.\"\n",
              "              style=\"display:none;\">\n",
              "        \n",
              "  <svg xmlns=\"http://www.w3.org/2000/svg\" height=\"24px\"viewBox=\"0 0 24 24\"\n",
              "       width=\"24px\">\n",
              "    <path d=\"M0 0h24v24H0V0z\" fill=\"none\"/>\n",
              "    <path d=\"M18.56 5.44l.94 2.06.94-2.06 2.06-.94-2.06-.94-.94-2.06-.94 2.06-2.06.94zm-11 1L8.5 8.5l.94-2.06 2.06-.94-2.06-.94L8.5 2.5l-.94 2.06-2.06.94zm10 10l.94 2.06.94-2.06 2.06-.94-2.06-.94-.94-2.06-.94 2.06-2.06.94z\"/><path d=\"M17.41 7.96l-1.37-1.37c-.4-.4-.92-.59-1.43-.59-.52 0-1.04.2-1.43.59L10.3 9.45l-7.72 7.72c-.78.78-.78 2.05 0 2.83L4 21.41c.39.39.9.59 1.41.59.51 0 1.02-.2 1.41-.59l7.78-7.78 2.81-2.81c.8-.78.8-2.07 0-2.86zM5.41 20L4 18.59l7.72-7.72 1.47 1.35L5.41 20z\"/>\n",
              "  </svg>\n",
              "      </button>\n",
              "      \n",
              "  <style>\n",
              "    .colab-df-container {\n",
              "      display:flex;\n",
              "      flex-wrap:wrap;\n",
              "      gap: 12px;\n",
              "    }\n",
              "\n",
              "    .colab-df-convert {\n",
              "      background-color: #E8F0FE;\n",
              "      border: none;\n",
              "      border-radius: 50%;\n",
              "      cursor: pointer;\n",
              "      display: none;\n",
              "      fill: #1967D2;\n",
              "      height: 32px;\n",
              "      padding: 0 0 0 0;\n",
              "      width: 32px;\n",
              "    }\n",
              "\n",
              "    .colab-df-convert:hover {\n",
              "      background-color: #E2EBFA;\n",
              "      box-shadow: 0px 1px 2px rgba(60, 64, 67, 0.3), 0px 1px 3px 1px rgba(60, 64, 67, 0.15);\n",
              "      fill: #174EA6;\n",
              "    }\n",
              "\n",
              "    [theme=dark] .colab-df-convert {\n",
              "      background-color: #3B4455;\n",
              "      fill: #D2E3FC;\n",
              "    }\n",
              "\n",
              "    [theme=dark] .colab-df-convert:hover {\n",
              "      background-color: #434B5C;\n",
              "      box-shadow: 0px 1px 3px 1px rgba(0, 0, 0, 0.15);\n",
              "      filter: drop-shadow(0px 1px 2px rgba(0, 0, 0, 0.3));\n",
              "      fill: #FFFFFF;\n",
              "    }\n",
              "  </style>\n",
              "\n",
              "      <script>\n",
              "        const buttonEl =\n",
              "          document.querySelector('#df-0f4d220c-dbb0-4794-8f53-4091e833b149 button.colab-df-convert');\n",
              "        buttonEl.style.display =\n",
              "          google.colab.kernel.accessAllowed ? 'block' : 'none';\n",
              "\n",
              "        async function convertToInteractive(key) {\n",
              "          const element = document.querySelector('#df-0f4d220c-dbb0-4794-8f53-4091e833b149');\n",
              "          const dataTable =\n",
              "            await google.colab.kernel.invokeFunction('convertToInteractive',\n",
              "                                                     [key], {});\n",
              "          if (!dataTable) return;\n",
              "\n",
              "          const docLinkHtml = 'Like what you see? Visit the ' +\n",
              "            '<a target=\"_blank\" href=https://colab.research.google.com/notebooks/data_table.ipynb>data table notebook</a>'\n",
              "            + ' to learn more about interactive tables.';\n",
              "          element.innerHTML = '';\n",
              "          dataTable['output_type'] = 'display_data';\n",
              "          await google.colab.output.renderOutput(dataTable, element);\n",
              "          const docLink = document.createElement('div');\n",
              "          docLink.innerHTML = docLinkHtml;\n",
              "          element.appendChild(docLink);\n",
              "        }\n",
              "      </script>\n",
              "    </div>\n",
              "  </div>\n",
              "  "
            ]
          },
          "metadata": {},
          "execution_count": 110
        }
      ]
    },
    {
      "cell_type": "code",
      "source": [
        "plt.figure(figsize=(16,8))\n",
        "plt.title('Close Price Graph')\n",
        "plt.plot(data['Close'], color = 'green', linewidth =3 , MARKERSIZE = 20)\n",
        "plt.xlabel('Date', fontsize = 12)\n",
        "plt.ylabel('Close Price in USD', fontsize =12)\n",
        "plt.show"
      ],
      "metadata": {
        "colab": {
          "base_uri": "https://localhost:8080/",
          "height": 570
        },
        "id": "s5aA_gA3JDO1",
        "outputId": "02b9aa04-bcec-40d2-af61-816e74a76660"
      },
      "execution_count": null,
      "outputs": [
        {
          "output_type": "execute_result",
          "data": {
            "text/plain": [
              "<function matplotlib.pyplot.show>"
            ]
          },
          "metadata": {},
          "execution_count": 111
        },
        {
          "output_type": "display_data",
          "data": {
            "text/plain": [
              "<Figure size 1152x576 with 1 Axes>"
            ],
            "image/png": "[encoded data removed]"
          },
          "metadata": {}
        }
      ]
    },
    {
      "cell_type": "code",
      "source": [
        "dataclose = data.filter(['Close'])\n",
        "dataclose\n",
        "dataset = dataclose.values\n",
        "dataset #converting dataclose to array\n",
        "\n"
      ],
      "metadata": {
        "colab": {
          "base_uri": "https://localhost:8080/"
        },
        "id": "BoVEan2ILuLN",
        "outputId": "f2a5080e-d0eb-4e7e-df31-2d7e4edd1088"
      },
      "execution_count": null,
      "outputs": [
        {
          "output_type": "execute_result",
          "data": {
            "text/plain": [
              "array([[ 313.68869019],\n",
              "       [ 312.30731201],\n",
              "       [ 304.43444824],\n",
              "       ...,\n",
              "       [2229.75      ],\n",
              "       [2244.84008789],\n",
              "       [2359.5       ]])"
            ]
          },
          "metadata": {},
          "execution_count": 112
        }
      ]
    },
    {
      "cell_type": "code",
      "source": [
        "#training data for LSTM\n",
        "\n",
        "traindatalen = math.ceil(len(dataset)* .8)\n",
        "traindatalen\n"
      ],
      "metadata": {
        "colab": {
          "base_uri": "https://localhost:8080/"
        },
        "id": "MXC98PyfMJgC",
        "outputId": "63c2e355-7a9e-45d0-fefe-ab822183667c"
      },
      "execution_count": null,
      "outputs": [
        {
          "output_type": "execute_result",
          "data": {
            "text/plain": [
              "2513"
            ]
          },
          "metadata": {},
          "execution_count": 113
        }
      ]
    },
    {
      "cell_type": "code",
      "source": [
        "#scaling the data\n",
        "\n",
        "Scaler = MinMaxScaler(feature_range=(0,1))\n",
        "Scaled_Data = Scaler.fit_transform(dataset)\n",
        "\n",
        "Scaled_Data"
      ],
      "metadata": {
        "colab": {
          "base_uri": "https://localhost:8080/"
        },
        "id": "rZVuZHDgNCwq",
        "outputId": "516b861c-9898-4e09-b6ba-83555236fe75"
      },
      "execution_count": null,
      "outputs": [
        {
          "output_type": "execute_result",
          "data": {
            "text/plain": [
              "array([[0.03434762],\n",
              "       [0.03385046],\n",
              "       [0.03101698],\n",
              "       ...,\n",
              "       [0.72394623],\n",
              "       [0.72937722],\n",
              "       [0.77064381]])"
            ]
          },
          "metadata": {},
          "execution_count": 114
        }
      ]
    },
    {
      "cell_type": "code",
      "source": [
        "#train_scaled_data\n",
        "\n",
        "train_data_scaled = Scaled_Data[0:traindatalen, :]\n",
        "train_data_scaled\n",
        "\n",
        "#split train data to x train and y train\n",
        "\n",
        "x_train = []\n",
        "y_train = []\n",
        "\n",
        "\n",
        "for i in range(60,len(train_data_scaled)):\n",
        "    x_train.append(train_data_scaled[i-60:i,0])\n",
        "    y_train.append(train_data_scaled[i,0])\n",
        "\n",
        "    if i<=60:\n",
        "       print(x_train)\n",
        "       print(y_train)\n",
        "       print()"
      ],
      "metadata": {
        "colab": {
          "base_uri": "https://localhost:8080/"
        },
        "id": "7CkL1LP5LNej",
        "outputId": "898dc6e1-29d9-4161-d9e1-4d26b9658eac"
      },
      "execution_count": null,
      "outputs": [
        {
          "output_type": "stream",
          "name": "stdout",
          "text": [
            "[array([0.03434762, 0.03385046, 0.03101698, 0.0284663 , 0.02989295,\n",
            "       0.02972903, 0.02781422, 0.02720357, 0.02770074, 0.02592643,\n",
            "       0.02729904, 0.02600029, 0.02646323, 0.02052427, 0.01872114,\n",
            "       0.01915706, 0.01909942, 0.01769259, 0.01690901, 0.01746382,\n",
            "       0.01712158, 0.01886886, 0.0163398 , 0.0171522 , 0.01754489,\n",
            "       0.01807988, 0.01772141, 0.01807267, 0.01748183, 0.01895532,\n",
            "       0.0183987 , 0.01930118, 0.01885805, 0.01922551, 0.01783309,\n",
            "       0.01718462, 0.01627675, 0.0163434 , 0.01740438, 0.01891209,\n",
            "       0.01967945, 0.02134928, 0.02308215, 0.02277052, 0.02235801,\n",
            "       0.02528697, 0.02613179, 0.02584358, 0.02289662, 0.02326048,\n",
            "       0.02332532, 0.02347664, 0.02232379, 0.02187346, 0.02034234,\n",
            "       0.02184284, 0.02284257, 0.02280834, 0.02276511, 0.02353248])]\n",
            "[0.023606332757390977]\n",
            "\n"
          ]
        }
      ]
    },
    {
      "cell_type": "code",
      "source": [
        "x_train,y_train = np.array(x_train),np.array(y_train)\n",
        "x_train = np.reshape(x_train, (x_train.shape[0],x_train.shape[1],1))\n",
        "x_train.shape\n"
      ],
      "metadata": {
        "colab": {
          "base_uri": "https://localhost:8080/"
        },
        "id": "e2TicMldoifY",
        "outputId": "3a843e5a-bf71-4200-b3a9-a84b14f87457"
      },
      "execution_count": null,
      "outputs": [
        {
          "output_type": "execute_result",
          "data": {
            "text/plain": [
              "(2453, 60, 1)"
            ]
          },
          "metadata": {},
          "execution_count": 116
        }
      ]
    },
    {
      "cell_type": "code",
      "source": [
        "#Building the LSTM model\n",
        "\n",
        "\n",
        "model = Sequential()\n",
        "model.add(LSTM(50, return_sequences=True,input_shape=(x_train.shape[1],1)))\n",
        "model.add(LSTM(50,return_sequences=False))\n",
        "model.add(Dense(25))\n",
        "model.add(Dense(1))"
      ],
      "metadata": {
        "id": "D1eu25nzp0db"
      },
      "execution_count": null,
      "outputs": []
    },
    {
      "cell_type": "code",
      "source": [
        "#Compiling the model\n",
        "model.compile(optimizer ='adam',loss ='mean_squared_error')"
      ],
      "metadata": {
        "id": "koy2LGYWv69M"
      },
      "execution_count": null,
      "outputs": []
    },
    {
      "cell_type": "code",
      "source": [
        "#Training Model\n",
        "\n",
        "model.fit(x_train,y_train,epochs=1,batch_size=1)"
      ],
      "metadata": {
        "colab": {
          "base_uri": "https://localhost:8080/"
        },
        "id": "03WjGNE7wWWn",
        "outputId": "8e0246cb-4f4e-4af9-9cc3-8c96c20e3d93"
      },
      "execution_count": null,
      "outputs": [
        {
          "output_type": "stream",
          "name": "stdout",
          "text": [
            "2453/2453 [==============================] - 76s 30ms/step - loss: 2.7112e-04\n"
          ]
        },
        {
          "output_type": "execute_result",
          "data": {
            "text/plain": [
              "<keras.callbacks.History at 0x7fab9f4ff6d0>"
            ]
          },
          "metadata": {},
          "execution_count": 119
        }
      ]
    },
    {
      "cell_type": "code",
      "source": [
        "#Testing Data Set\n",
        "test_dataset = Scaled_Data[traindatalen- 60:,:]\n",
        "\n",
        "#x_test, y_test\n",
        "\n",
        "x_test =[]\n",
        "y_test = dataset[traindatalen:,:]\n",
        "\n",
        "for i in range(60,len(test_dataset)):\n",
        "  x_test.append(test_dataset[i-60:i,0])"
      ],
      "metadata": {
        "id": "3PnUB529w3XW"
      },
      "execution_count": null,
      "outputs": []
    },
    {
      "cell_type": "code",
      "source": [
        "#Convert data to array\n",
        "\n",
        "\n",
        "x_test=np.array(x_test)\n",
        "x_test"
      ],
      "metadata": {
        "colab": {
          "base_uri": "https://localhost:8080/"
        },
        "id": "DE6-WWRXyq2P",
        "outputId": "1c682a79-5660-4fda-b728-3715e5c666e5"
      },
      "execution_count": null,
      "outputs": [
        {
          "output_type": "execute_result",
          "data": {
            "text/plain": [
              "array([[0.34538816, 0.34953066, 0.35727937, ..., 0.40754721, 0.40531582,\n",
              "        0.41180846],\n",
              "       [0.34953066, 0.35727937, 0.35630404, ..., 0.40531582, 0.41180846,\n",
              "        0.40899043],\n",
              "       [0.35727937, 0.35630404, 0.34978258, ..., 0.41180846, 0.40899043,\n",
              "        0.40361704],\n",
              "       ...,\n",
              "       [0.94122402, 0.93965848, 0.94721647, ..., 0.68468785, 0.69267779,\n",
              "        0.72435288],\n",
              "       [0.93965848, 0.94721647, 0.94313513, ..., 0.69267779, 0.72435288,\n",
              "        0.72394623],\n",
              "       [0.94721647, 0.94313513, 0.92246945, ..., 0.72435288, 0.72394623,\n",
              "        0.72937722]])"
            ]
          },
          "metadata": {},
          "execution_count": 121
        }
      ]
    },
    {
      "cell_type": "code",
      "source": [
        "#Reshape to 3D \n",
        "\n",
        "x_test= np.reshape(x_test,(x_test.shape[0],x_test.shape[1],1))\n",
        "\n",
        "x_test.shape\n",
        "\n",
        "#predictions\n",
        "\n",
        "pred = model.predict(x_test)\n",
        "pred = Scaler.inverse_transform(pred)"
      ],
      "metadata": {
        "id": "Ow5i5Uv_y8jy"
      },
      "execution_count": null,
      "outputs": []
    },
    {
      "cell_type": "code",
      "source": [
        "#Root Mean Squared Error Test lower values means better fit\n",
        "\n",
        "RMS =np.sqrt(np.mean(pred-y_test)**2)\n",
        "RMS"
      ],
      "metadata": {
        "colab": {
          "base_uri": "https://localhost:8080/"
        },
        "id": "1AIadPII05gS",
        "outputId": "0d6a6c1f-75d7-4d2d-d392-0c3a1155d54c"
      },
      "execution_count": null,
      "outputs": [
        {
          "output_type": "execute_result",
          "data": {
            "text/plain": [
              "34.62253254689988"
            ]
          },
          "metadata": {},
          "execution_count": 123
        }
      ]
    },
    {
      "cell_type": "code",
      "source": [
        "#pLOT DATA\n",
        "\n",
        "TRAIN = data[:traindatalen]\n",
        "Valid = data[traindatalen:]\n",
        "Valid['Predictions'] = pred\n",
        "\n",
        "plt.figure(figsize=(16,8))\n",
        "plt.title('Model')\n",
        "plt.xlabel('Date',fontsize=15)\n",
        "plt.ylabel('Close Price USD',fontsize=15)\n",
        "plt.plot(TRAIN['Close'])\n",
        "plt.plot(Valid[['Close','Predictions']])\n",
        "plt.legend(['Train','Valid','Predictions'])\n",
        "\n",
        "\n"
      ],
      "metadata": {
        "colab": {
          "base_uri": "https://localhost:8080/",
          "height": 674
        },
        "id": "RjqjOicE1jmt",
        "outputId": "731762a8-ab99-4576-8e82-ffde0f6be83a"
      },
      "execution_count": null,
      "outputs": [
        {
          "output_type": "stream",
          "name": "stderr",
          "text": [
            "/usr/local/lib/python3.7/dist-packages/ipykernel_launcher.py:5: SettingWithCopyWarning: \n",
            "A value is trying to be set on a copy of a slice from a DataFrame.\n",
            "Try using .loc[row_indexer,col_indexer] = value instead\n",
            "\n",
            "See the caveats in the documentation: https://pandas.pydata.org/pandas-docs/stable/user_guide/indexing.html#returning-a-view-versus-a-copy\n",
            "  \"\"\"\n"
          ]
        },
        {
          "output_type": "execute_result",
          "data": {
            "text/plain": [
              "<matplotlib.legend.Legend at 0x7fab9e17d750>"
            ]
          },
          "metadata": {},
          "execution_count": 124
        },
        {
          "output_type": "display_data",
          "data": {
            "text/plain": [
              "<Figure size 1152x576 with 1 Axes>"
            ],
            "image/png": "[encoded data removed]"
          },
          "metadata": {}
        }
      ]
    },
    {
      "cell_type": "code",
      "source": [
        "#Valid\n",
        "\n",
        "print(Valid)\n",
        "\n",
        "\n",
        "#Predicting for next data\n",
        "\n",
        "data1 = yf.download('GOOGL',start = '2010-01-01', end=today)\n",
        "\n",
        "data1df = data1.filter(['Close'])\n",
        "\n",
        "lastsixttydays = data1df[-60:].values\n",
        "\n",
        "lastsixttydays = Scaler.transform(lastsixttydays)\n",
        "\n",
        "Xtest=[]\n",
        "\n",
        "Xtest.append(lastsixttydays)\n",
        "\n",
        "Xtest = np.array(Xtest)\n",
        "\n",
        "Xtest = np.reshape(Xtest,(Xtest.shape[0],Xtest.shape[1],1)) \n",
        "\n",
        "predprice = model.predict(Xtest)\n",
        "\n",
        "predprice = Scaler.inverse_transform(predprice)\n",
        "\n",
        "predprice\n",
        "\n",
        "print(predprice)"
      ],
      "metadata": {
        "colab": {
          "base_uri": "https://localhost:8080/"
        },
        "id": "qwS_12vE4PLs",
        "outputId": "83a28b94-81a4-46dc-bd6f-36fb1621c6ae"
      },
      "execution_count": null,
      "outputs": [
        {
          "output_type": "stream",
          "name": "stdout",
          "text": [
            "                   Open         High          Low        Close    Adj Close  \\\n",
            "Date                                                                          \n",
            "2019-12-27  1364.000000  1367.050049  1353.000000  1354.640015  1354.640015   \n",
            "2019-12-30  1356.810059  1357.000000  1337.839966  1339.709961  1339.709961   \n",
            "2019-12-31  1335.790039  1340.660034  1332.130005  1339.390015  1339.390015   \n",
            "2020-01-02  1348.410034  1368.680054  1346.489990  1368.680054  1368.680054   \n",
            "2020-01-03  1348.000000  1373.750000  1347.319946  1361.520020  1361.520020   \n",
            "...                 ...          ...          ...          ...          ...   \n",
            "2022-06-17  2120.669922  2173.989990  2100.919922  2142.870117  2142.870117   \n",
            "2022-06-21  2178.590088  2249.790039  2172.000000  2230.879883  2230.879883   \n",
            "2022-06-22  2211.129883  2266.929932  2207.649902  2229.750000  2229.750000   \n",
            "2022-06-23  2244.629883  2254.850098  2210.010010  2244.840088  2244.840088   \n",
            "2022-06-24  2259.899902  2361.580078  2259.050049  2359.500000  2359.500000   \n",
            "\n",
            "             Volume  Predictions  \n",
            "Date                              \n",
            "2019-12-27  1160600  1418.550293  \n",
            "2019-12-30   999700  1419.231445  \n",
            "2019-12-31   975700  1417.996338  \n",
            "2020-01-02  1363900  1415.968750  \n",
            "2020-01-03  1170400  1417.213745  \n",
            "...             ...          ...  \n",
            "2022-06-17  2555300  2257.871582  \n",
            "2022-06-21  2370800  2240.776367  \n",
            "2022-06-22  1538700  2238.246338  \n",
            "2022-06-23  1418100  2242.032959  \n",
            "2022-06-24  2054600  2250.442139  \n",
            "\n",
            "[628 rows x 7 columns]\n",
            "\r[*********************100%***********************]  1 of 1 completed\n",
            "[[2273.8003]]\n"
          ]
        }
      ]
    }
  ]
}